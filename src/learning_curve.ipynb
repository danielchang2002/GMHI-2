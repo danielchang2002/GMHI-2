{
 "cells": [
  {
   "cell_type": "code",
   "execution_count": 1,
   "metadata": {},
   "outputs": [],
   "source": [
    "from sklearn.model_selection import learning_curve\n",
    "import seaborn as sns\n",
    "import matplotlib.pyplot as plt\n",
    "\n",
    "def plot_learning_curve(estimator, X, y, cv, data_points=5, groups=None):\n",
    "    t_sizes = np.linspace(0.1, 1.0, data_points)\n",
    "    train_sizes, train_scores, valid_scores = learning_curve(logreg,\n",
    "        X, y.values.ravel(), cv=cv, scoring=\"accuracy\", n_jobs=-1, verbose=10, train_sizes=t_sizes, groups=groups,\n",
    "        shuffle=True, random_state=42)\n",
    "    training_loss = train_scores.flatten()\n",
    "    valid_loss = valid_scores.flatten()\n",
    "    losses = np.concatenate([training_loss, valid_loss])\n",
    "    learning = pd.DataFrame(losses, columns=['accuracy'])\n",
    "    n_splits = cv.get_n_splits()\n",
    "    learning['set'] = ['training'] * (data_points * n_splits) + ['validation'] * (data_points * n_splits)\n",
    "    learning['training set size'] = [s for s in train_sizes for i in range(n_splits)] * 2\n",
    "    plt.figure(figsize=(20,10))\n",
    "    plt.title(\"Learning Curve\", fontsize=50)\n",
    "    plt.xlabel(\"Training Set Size\", fontsize=30)\n",
    "    plt.ylabel(\"Balanced Accuracy\", fontsize=30)\n",
    "    sns.lineplot(data=learning, x='training set size', y='accuracy', hue=\"set\")\n",
    "    plt.savefig(config.OUTPUT_DIR + \"learning_curve.png\")"
   ]
  },
  {
   "cell_type": "code",
   "execution_count": null,
   "metadata": {},
   "outputs": [],
   "source": [
    "strat_kfold = StratifiedKFold(10, shuffle=True, random_state=42)\n",
    "plot_learning_curve(logreg, X, y, strat_kfold, data_points=10, groups=groups)"
   ]
  }
 ],
 "metadata": {
  "kernelspec": {
   "display_name": "Python 3",
   "language": "python",
   "name": "python3"
  },
  "language_info": {
   "codemirror_mode": {
    "name": "ipython",
    "version": 3
   },
   "file_extension": ".py",
   "mimetype": "text/x-python",
   "name": "python",
   "nbconvert_exporter": "python",
   "pygments_lexer": "ipython3",
   "version": "3.8.5"
  }
 },
 "nbformat": 4,
 "nbformat_minor": 4
}
