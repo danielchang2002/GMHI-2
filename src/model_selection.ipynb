{
 "cells": [
  {
   "cell_type": "markdown",
   "metadata": {},
   "source": [
    "## Setup"
   ]
  },
  {
   "cell_type": "code",
   "execution_count": 1,
   "metadata": {},
   "outputs": [],
   "source": [
    "import GMHI\n",
    "import config\n",
    "import functions\n",
    "import pandas as pd\n",
    "from sklearn.model_selection import GridSearchCV\n",
    "from sklearn.linear_model import LogisticRegression\n",
    "from sklearn.model_selection import StratifiedKFold\n",
    "from sklearn.model_selection import LeaveOneGroupOut\n",
    "from sklearn.model_selection import LeaveOneOut\n",
    "from sklearn.metrics import balanced_accuracy_score\n",
    "from GMHI import GMHI"
   ]
  },
  {
   "cell_type": "code",
   "execution_count": 2,
   "metadata": {},
   "outputs": [],
   "source": [
    "X, y = functions.load_taxonomy()"
   ]
  },
  {
   "cell_type": "code",
   "execution_count": 3,
   "metadata": {},
   "outputs": [
    {
     "name": "stdout",
     "output_type": "stream",
     "text": [
      "False\n"
     ]
    },
    {
     "data": {
      "text/plain": [
       "0.7218442508719711"
      ]
     },
     "execution_count": 3,
     "metadata": {},
     "output_type": "execute_result"
    }
   ],
   "source": [
    "gmhi = GMHI(theta_f=1.6, theta_d=0)\n",
    "gmhi.fit(X.values, y.values)\n",
    "y_hat = gmhi.predict(X.values)\n",
    "score = balanced_accuracy_score(y, y_hat)\n",
    "score"
   ]
  },
  {
   "cell_type": "markdown",
   "metadata": {},
   "source": [
    "## Models and CV methods"
   ]
  },
  {
   "cell_type": "code",
   "execution_count": 3,
   "metadata": {},
   "outputs": [],
   "source": [
    "cross_validation_methods = [StratifiedKFold(n_splits=10, shuffle=True, random_state=42), \n",
    "                            LeaveOneGroupOut(),\n",
    "                            LeaveOneOut()\n",
    "                           ]"
   ]
  },
  {
   "cell_type": "code",
   "execution_count": 154,
   "metadata": {},
   "outputs": [
    {
     "data": {
      "text/plain": [
       "array([ 8,  8,  8, ...,  5,  5, 41])"
      ]
     },
     "execution_count": 154,
     "metadata": {},
     "output_type": "execute_result"
    }
   ],
   "source": [
    "groups = functions.get_groups(X)\n",
    "groups"
   ]
  },
  {
   "cell_type": "code",
   "execution_count": 155,
   "metadata": {},
   "outputs": [],
   "source": [
    "logreg = LogisticRegression(penalty='l1',\n",
    "fit_intercept=True, max_iter=700, random_state=42, # l1_ratio=0.8,\n",
    "                    solver='saga', n_jobs=-1, verbose=0)\n",
    "gmhi = GMHI(use_shannon=True)"
   ]
  },
  {
   "cell_type": "code",
   "execution_count": 156,
   "metadata": {},
   "outputs": [],
   "source": [
    "models = {\n",
    "    \"gmhi\" : {\n",
    "        \"estimator\" : gmhi,\n",
    "        \"param_grid\" : {\n",
    "            \"theta_f\" : [1.5, 1.6],\n",
    "            \"theta_d\" : [0]\n",
    "        }\n",
    "    },\n",
    "    \"logreg\" : {\n",
    "        \"estimator\" : logreg,\n",
    "        \"param_grid\" : {\n",
    "            \"C\" : [0.3]\n",
    "        }\n",
    "    }\n",
    "}"
   ]
  },
  {
   "cell_type": "code",
   "execution_count": 157,
   "metadata": {},
   "outputs": [],
   "source": [
    "model_names = ['gmhi', 'logreg']"
   ]
  },
  {
   "cell_type": "code",
   "execution_count": 158,
   "metadata": {},
   "outputs": [],
   "source": [
    "model = GridSearchCV(\n",
    "    estimator=models['gmhi']['estimator'],\n",
    "    param_grid=models['gmhi']['param_grid'],\n",
    "    scoring=\"balanced_accuracy\",\n",
    "    verbose=10,\n",
    "    n_jobs=-1,\n",
    "    cv=cross_validation_methods[2]\n",
    ")"
   ]
  },
  {
   "cell_type": "code",
   "execution_count": 159,
   "metadata": {
    "scrolled": true
   },
   "outputs": [
    {
     "name": "stdout",
     "output_type": "stream",
     "text": [
      "Fitting 5026 folds for each of 2 candidates, totalling 10052 fits\n",
      "CPU times: user 32.7 s, sys: 3.25 s, total: 36 s\n",
      "Wall time: 1min 4s\n"
     ]
    },
    {
     "data": {
      "text/plain": [
       "GridSearchCV(cv=LeaveOneOut(), estimator=GMHI(use_shannon=True), n_jobs=-1,\n",
       "             param_grid={'theta_d': [0], 'theta_f': [1.5, 1.6]},\n",
       "             scoring='balanced_accuracy', verbose=10)"
      ]
     },
     "execution_count": 159,
     "metadata": {},
     "output_type": "execute_result"
    }
   ],
   "source": [
    "%%time\n",
    "model.fit(X, y, groups=groups)"
   ]
  },
  {
   "cell_type": "code",
   "execution_count": 161,
   "metadata": {},
   "outputs": [
    {
     "data": {
      "text/plain": [
       "{'theta_d': 0, 'theta_f': 1.6, 'use_shannon': True}"
      ]
     },
     "execution_count": 161,
     "metadata": {},
     "output_type": "execute_result"
    }
   ],
   "source": [
    "model.best_estimator_.get_params()"
   ]
  },
  {
   "cell_type": "code",
   "execution_count": null,
   "metadata": {},
   "outputs": [],
   "source": []
  }
 ],
 "metadata": {
  "kernelspec": {
   "display_name": "Python 3",
   "language": "python",
   "name": "python3"
  },
  "language_info": {
   "codemirror_mode": {
    "name": "ipython",
    "version": 3
   },
   "file_extension": ".py",
   "mimetype": "text/x-python",
   "name": "python",
   "nbconvert_exporter": "python",
   "pygments_lexer": "ipython3",
   "version": "3.8.5"
  }
 },
 "nbformat": 4,
 "nbformat_minor": 4
}
